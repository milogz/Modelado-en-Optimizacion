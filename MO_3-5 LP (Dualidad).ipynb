{
 "cells": [
  {
   "cell_type": "markdown",
   "id": "bd4493c9-2709-4a5e-95c9-6b9112da5ded",
   "metadata": {},
   "source": [
    "# Modelado en Optimización (IIND-2501)\n",
    "\n",
    "## Lección 3.5: Conceptos básicos de dualidad en programación lineal\n",
    "\n"
   ]
  },
  {
   "cell_type": "markdown",
   "id": "0575b0db-1043-4f8f-bb23-19f9bf37edf1",
   "metadata": {},
   "source": [
    "MEN AT WORK..."
   ]
  },
  {
   "cell_type": "code",
   "execution_count": null,
   "id": "1a6013f7-6d99-4851-bfc8-13f26bbe3262",
   "metadata": {},
   "outputs": [],
   "source": []
  }
 ],
 "metadata": {
  "kernelspec": {
   "display_name": "Python 3 (ipykernel)",
   "language": "python",
   "name": "python3"
  },
  "language_info": {
   "codemirror_mode": {
    "name": "ipython",
    "version": 3
   },
   "file_extension": ".py",
   "mimetype": "text/x-python",
   "name": "python",
   "nbconvert_exporter": "python",
   "pygments_lexer": "ipython3",
   "version": "3.11.7"
  }
 },
 "nbformat": 4,
 "nbformat_minor": 5
}
