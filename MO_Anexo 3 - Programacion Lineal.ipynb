{
 "cells": [
  {
   "cell_type": "markdown",
   "id": "9b66495e-1c49-4760-99a8-6268656a3137",
   "metadata": {},
   "source": [
    "# Anexo C: Introducción a la Programación Lineal (LP)\n",
    "\n",
    "Este anexo ofrece una visión introductoria a la **Programación Lineal (LP)**, resaltando conceptos fundamentales y su conexión con la práctica. Se inspira en los enfoques de Bazaraa, Rardin y Bertsekas, traducidos aquí a un lenguaje más accesible.\n",
    "\n",
    "## 1. Panorama general\n",
    "\n",
    "La Programación Lineal modela problemas de decisión en los que tanto la **función objetivo** como las **restricciones** son lineales.  \n",
    "\n",
    "Ejemplo típico: maximizar utilidades sujetas a recursos limitados.\n",
    "\n",
    "$$\\max c^T x$$\n",
    "$$\\text{s.a. }$$\n",
    "$$Ax \\leq b,$$\n",
    "$$x \\geq 0.$$\n",
    "\n",
    "Tres ingredientes esenciales:\n",
    "1. **Variables de decisión**: representan elecciones del decisor.  \n",
    "2. **Restricciones lineales**: representan recursos, balances, límites.  \n",
    "3. **Función objetivo lineal**: mide la ganancia, costo o eficiencia."
   ]
  },
  {
   "cell_type": "markdown",
   "id": "6b6389c7-0c36-4119-8986-50fc693ff382",
   "metadata": {},
   "source": [
    "## 2. Geometría de los LPs\n",
    "\n",
    "Un LP define una **región factible** que es un **poliedro convexo**.  \n",
    "\n",
    "- Cada solución factible es un punto en esa región.  \n",
    "- Los **vértices (esquinas)** concentran especial interés: el **Teorema Fundamental del LP** asegura que un óptimo, si existe, se encuentra en algún vértice.  \n",
    "- Esta intuición geométrica se encuentra en Bazaraa (Cap. 2.1) y Rardin (Cap. 2)."
   ]
  },
  {
   "cell_type": "markdown",
   "id": "67458383-4055-46f2-9529-bd2ad9b9df6e",
   "metadata": {},
   "source": [
    "## 3. Algoritmos de solución\n",
    "\n",
    "- **Método Simplex:** (Dantzig, 1947) recorre los vértices de la región factible buscando mejorar el valor de la función objetivo hasta llegar al óptimo.  \n",
    "- **Métodos de Punto Interior:** (Karmarkar, 1984) se mueven dentro de la región factible y ofrecen gran eficiencia en problemas masivos.  \n",
    "\n",
    "*(Ver Bertsekas, Introducción a LP, para rigor geométrico y variaciones).*"
   ]
  },
  {
   "cell_type": "markdown",
   "id": "63112c0a-3b62-41a8-9002-441dbcc87a63",
   "metadata": {},
   "source": [
    "## 4. Dualidad\n",
    "\n",
    "Cada problema primal tiene un **dual**:  \n",
    "- El dual asigna precios implícitos (o **precios sombra**) a los recursos.  \n",
    "- Proporciona interpretaciones económicas: cuánto vale una unidad adicional de recurso, cuándo un recurso está efectivamente limitando la solución.  \n",
    "- El **Teorema de Dualidad Fuerte** establece que los óptimos primal y dual coinciden si ambos existen.\n",
    "\n",
    "Esto conecta directamente con la interpretación de holguras y sensibilidad."
   ]
  },
  {
   "cell_type": "markdown",
   "id": "c3e25a00-3ab5-4de8-b53f-f0987b1680dc",
   "metadata": {},
   "source": [
    "## 5. Sensibilidad y análisis post-óptimo\n",
    "\n",
    "Un modelo es útil si entendemos cómo se comporta frente a cambios:\n",
    "\n",
    "- Cambios en coeficientes del objetivo.  \n",
    "- Variaciones en recursos disponibles.  \n",
    "- Perturbaciones en restricciones.  \n",
    "\n",
    "Estos análisis permiten evaluar la **robustez de la solución** y dan intuiciones críticas en aplicaciones reales (ver Bazaraa, Cap. 4)."
   ]
  },
  {
   "cell_type": "markdown",
   "id": "0d30f536-3a78-4d64-9da5-6ea085570908",
   "metadata": {},
   "source": [
    "## 6. Relevancia práctica\n",
    "\n",
    "- **Industria:** energía, logística, transporte, finanzas.  \n",
    "- **Software:** Gurobi, CPLEX, OR-Tools implementan variantes de Simplex y Punto Interior.  \n",
    "- **Investigación:** la LP es base para técnicas más avanzadas (programación entera, estocástica, robusta).\n",
    "\n",
    "\n",
    "## Referencias clave\n",
    "\n",
    "- Bazaraa, M. S., Jarvis, J. J., & Sherali, H. D. (2010). *Linear Programming and Network Flows*. Wiley. (Secc. 2.1–2.3, fundamentos y geometría).  \n",
    "- Rardin, R. L. (1998). *Optimization in Operations Research*. Prentice Hall. (Cap. 2, formulación intuitiva y ejemplos).  \n",
    "- Bertsekas, D. P. (1997). *Linear Optimization and Network Flows*. Athena Scientific. (Cap. 1, geometría y dualidad).  "
   ]
  },
  {
   "cell_type": "code",
   "execution_count": null,
   "id": "c2e29702-9f8a-41a8-a0df-23ca55d3ad9d",
   "metadata": {},
   "outputs": [],
   "source": []
  }
 ],
 "metadata": {
  "kernelspec": {
   "display_name": "Python 3 (ipykernel)",
   "language": "python",
   "name": "python3"
  },
  "language_info": {
   "codemirror_mode": {
    "name": "ipython",
    "version": 3
   },
   "file_extension": ".py",
   "mimetype": "text/x-python",
   "name": "python",
   "nbconvert_exporter": "python",
   "pygments_lexer": "ipython3",
   "version": "3.11.7"
  }
 },
 "nbformat": 4,
 "nbformat_minor": 5
}
