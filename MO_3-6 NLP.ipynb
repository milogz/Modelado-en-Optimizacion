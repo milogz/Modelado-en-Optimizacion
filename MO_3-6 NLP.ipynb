{
 "cells": [
  {
   "cell_type": "markdown",
   "id": "9cdc26c6-373d-4e40-9f87-b5348235121c",
   "metadata": {},
   "source": [
    "# Modelado en Optimización (IIND-2501)\n",
    "\n",
    "## Lección 3.6: Introducción a problemas de optimización no lineales con restricciones\n",
    "\n",
    "MEN AT WORK..."
   ]
  },
  {
   "cell_type": "code",
   "execution_count": null,
   "id": "35cf9b1e-412b-4726-9ca5-df317715ffa6",
   "metadata": {},
   "outputs": [],
   "source": []
  }
 ],
 "metadata": {
  "kernelspec": {
   "display_name": "Python 3 (ipykernel)",
   "language": "python",
   "name": "python3"
  },
  "language_info": {
   "codemirror_mode": {
    "name": "ipython",
    "version": 3
   },
   "file_extension": ".py",
   "mimetype": "text/x-python",
   "name": "python",
   "nbconvert_exporter": "python",
   "pygments_lexer": "ipython3",
   "version": "3.11.7"
  }
 },
 "nbformat": 4,
 "nbformat_minor": 5
}
