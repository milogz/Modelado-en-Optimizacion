{
 "cells": [
  {
   "cell_type": "markdown",
   "id": "91e3b93f-8ec7-4bba-b3e2-7ceb217c09a3",
   "metadata": {},
   "source": [
    "# Modelado en Optimización (IIND-2501)\n",
    "\n",
    "## Lección 3.3: Optimización lineal (formato estándar, holguras y bases)\n",
    "\n",
    "El **propósito** de esta lección es construir intuición geométrica de:\n",
    "- Región factible, restricciones activas/inactivas, holguras.\n",
    "- Variables básicas y no básicas (en $\\mathbb{R}^n$, los vértices son intersección de $n$ o más restricciones activas).\n",
    "- Conexión entre formato canónico, estándar y matricial."
   ]
  },
  {
   "cell_type": "code",
   "execution_count": 1,
   "id": "29e35472-1c2f-4358-86ec-56906023fff4",
   "metadata": {},
   "outputs": [],
   "source": [
    "'''\n",
    "Importaciones y configuraciones generales del notebook. No modificar.\n",
    "'''\n",
    "import numpy as np\n",
    "import matplotlib.pyplot as plt\n",
    "from IPython.display import display, Math\n",
    "from ipywidgets import FloatSlider, VBox, HBox, HTML, interactive_output, Checkbox, Button, Output, Layout\n",
    "\n",
    "from helpers_bases import plot_method_graph, plot_LP, eval_bases, slacks, bar_slacks, mat_to_bmatrix, vec_to_bmatrix, basis_info"
   ]
  },
  {
   "cell_type": "markdown",
   "id": "ccd91b3c-bc5e-4c40-9170-c724b2b181f3",
   "metadata": {},
   "source": [
    "### Representación general de un problema de optimización\n",
    "\n",
    "Un problema de optimización con $n$ variables y $m$ restricciones puede escribirse de manera general como:\n",
    "\n",
    "$$\\max\\; c^\\top x$$\n",
    "$$\\text{s.a.}$$\n",
    "$$A x \\le b,\\;$$\n",
    "$$x\\ge 0,\\;$$\n",
    "$$x\\in\\mathbb{R}^2.$$\n",
    "\n",
    "En esta **representación matricial**, $A\\in\\mathbb{R}^{m\\times n}$ contiene los coeficientes de las variables en las restricciones, $b\\in\\mathbb{R}^{m}$ contiene los términos independientes (lado derecho) de las restricciones, y $c\\in\\mathbb{R}^{n}$ contiene los costos asociados a las variables en la función objetivo (ver diapositivas).\n",
    "\n",
    "#### Ejemplo:\n",
    "\n",
    "$$\\max\\ z = 3x_1 + 2x_2$$\n",
    "\n",
    "Sujeto a\n",
    "$$\n",
    "\\begin{aligned}\n",
    "x_1 + x_2 &\\le 6 \\\\\n",
    "x_1 + 2 x_2 &\\le 8 \\\\\n",
    "2 x_2 + x_2 &\\le 8 \\\\\n",
    "x_1, x_2 &\\ge 0 \\, .\n",
    "\\end{aligned}\n",
    "$$\n",
    "\n",
    "En notación matricial:\n",
    "$$\n",
    "A =\n",
    "\\begin{bmatrix}\n",
    "1 & 1 \\\\\n",
    "1 & 2 \\\\\n",
    "2 & 1\n",
    "\\end{bmatrix},\n",
    "\\quad\n",
    "b =\n",
    "\\begin{bmatrix}\n",
    "6 \\\\ 8 \\\\ 8\n",
    "\\end{bmatrix},\n",
    "\\quad\n",
    "c =\n",
    "\\begin{bmatrix}\n",
    "3 \\\\ 2\n",
    "\\end{bmatrix} .\n",
    "$$"
   ]
  },
  {
   "cell_type": "markdown",
   "id": "aa775261-5c27-430d-93eb-33e8f82f0977",
   "metadata": {},
   "source": [
    "## Formatos de representación \n",
    "\n",
    "- **Formato canónico**: implica expresar problemas de maximización con restricciones `<=`(y de minimización con restricciones `>=`); el ejemplo anterior ya está dado en formato canónico.\n",
    "  \n",
    "- **Formato estándar**: implica expresar el problema solo con restricciones de igualdad para resolver sistemas de ecuaciones exactos. Para esto, introduce `variables de holgura` ($s$) que absorben \"lo que le falta\" a una restricción para cumplirse en igualdad, reemplazando las restricciones originales por:\n",
    "$$\\max\\; c^\\top x$$\n",
    "$$A x + s = b,$$\n",
    "$$x\\ge 0,$$\n",
    "$$s\\ge 0.$$\n",
    "\n",
    "Para el caso del ejemplo anterior, la representación en **formato estándar** sería:\n",
    "$$\\max\\ z = 3x_1 + 2x_2$$\n",
    "$$\n",
    "\\begin{aligned}\n",
    "x_1 + x_2 + s_1 &= 6 \\\\\n",
    "x_1 + 2 x_2 + s_2 &= 8 \\\\\n",
    "2 x_2 + x_2 + s_3 &= 8 \\\\\n",
    "x_1, x_2, s_1, s_2, s_3 &\\ge 0 \\, .\n",
    "\\end{aligned}\n",
    "$$\n",
    "\n",
    "De forma que:\n",
    "\n",
    "$$\n",
    "A =\n",
    "\\begin{bmatrix}\n",
    "1 & 1 & 1 & 0 & 0 \\\\\n",
    "1 & 2 & 0 & 1 & 0\\\\\n",
    "2 & 1 & 0 & 0 & 1\n",
    "\\end{bmatrix},\n",
    "\\quad\n",
    "b =\n",
    "\\begin{bmatrix}\n",
    "6 \\\\ 8 \\\\ 8\n",
    "\\end{bmatrix},\n",
    "\\quad\n",
    "c =\n",
    "\\begin{bmatrix}\n",
    "3 \\\\ 2 \\\\ 0 \\\\ 0 \\\\ 0\n",
    "\\end{bmatrix} .\n",
    "$$\n",
    "\n",
    "Observa que:\n",
    "$$\n",
    "\\begin{aligned}\n",
    "s_1 &= 6 - (x_1 + x_2) \\\\\n",
    "s_2 &= 8 - (x_1 + 2 x_2 ) \\\\\n",
    "s_3 &= 8 - (2 x_2 + x_2)\\\\\n",
    "\\end{aligned}\n",
    "$$"
   ]
  },
  {
   "cell_type": "code",
   "execution_count": 2,
   "id": "25bab848",
   "metadata": {},
   "outputs": [],
   "source": [
    "A = np.array([[1.,1.],[1.,2.],[2.,1.]], float)\n",
    "b = np.array([6.,8.,8.], float)\n",
    "c = np.array([3.,2.], float)"
   ]
  },
  {
   "cell_type": "markdown",
   "id": "d5718af5-e044-4bff-a64f-99d4b361ef28",
   "metadata": {},
   "source": [
    "## Conceptos de *holgura y restricción activa*\n",
    "\n",
    "Utiliza el siguiente *recurso interactivo* para evaluar diferentes puntos $(x_1, x_2)$, verificar factibilidad, y comprender el papel de las variables de holgura.\n",
    "\n",
    "- Desliza `x1` y `x2` para **probar factibilidad** $(Ax \\le b$).\n",
    "- El vector de **holguras** es $s = b - A x$.\n",
    "  - Si $s_i > 0$: la restricción $i$ está **inactiva**.\n",
    "  - Si $s_i = 0$: la restricción $i$ está **activa**.\n",
    "  - Si $s_i < 0$: la restricción $i$ se está incumpliendo.\n",
    "- El gráfico 2D muestra las restricciones (rectas $a_i^\\top x = b_i$), la región factible y el punto $(x_1, x_2)$ (todo en el espacio de $x_1,x_2$).\n",
    "- El gráfico de barras horizontales muestra los valores de **todas las variables**: $[x_1, x_2, s_1, s_2, s_3]$."
   ]
  },
  {
   "cell_type": "code",
   "execution_count": 3,
   "id": "c38d409f",
   "metadata": {},
   "outputs": [
    {
     "data": {
      "application/vnd.jupyter.widget-view+json": {
       "model_id": "7592f3bbae9a47b78dd4864610714ebf",
       "version_major": 2,
       "version_minor": 0
      },
      "text/plain": [
       "VBox(children=(HBox(children=(FloatSlider(value=0.0, description='x1', max=4.0), FloatSlider(value=0.0, descri…"
      ]
     },
     "metadata": {},
     "output_type": "display_data"
    }
   ],
   "source": [
    "plot_LP(A,b,c)"
   ]
  },
  {
   "cell_type": "markdown",
   "id": "1877d864",
   "metadata": {},
   "source": [
    "Introducir noción de **punto extremo**.\n",
    "\n",
    "# Cómo solucionar el sistema de ecuaciones\n",
    "\n",
    "Al introducir **holguras**, obtenemos un vector de decisión ampliado $x = [\\,x_1,\\ x_2,\\ s_1,\\ s_2,\\ s_3\\,]^\\top$ y matrices:\n",
    "\n",
    "$$\n",
    "A_{\\text{full}} =\n",
    "\\begin{bmatrix}\n",
    "1 & 1 & 1 & 0 & 0 \\\\\n",
    "1 & 2 & 0 & 1 & 0 \\\\\n",
    "2 & 1 & 0 & 0 & 1\n",
    "\\end{bmatrix},\n",
    "\\quad\n",
    "b =\n",
    "\\begin{bmatrix}\n",
    "6 \\\\ 8 \\\\ 8\n",
    "\\end{bmatrix},\n",
    "\\quad\n",
    "c_{\\text{full}} =\n",
    "\\begin{bmatrix}\n",
    "3 \\\\ 2 \\\\ 0 \\\\ 0 \\\\ 0\n",
    "\\end{bmatrix} .\n",
    "$$\n",
    "\n",
    "Un sistema de ecuaciones de 3x5 ($m\\times n$) tiene infitas soluciones. Por eso, fijamos $n-m$ variables en cero para obtener un sistema de $m\\times m$, *con igual número de ecuaciones e incógnitas*. Elegimos $m$ columnas (con $m=3$) como **base** $B$. Si $B$ es invertible, podemos encontrar el valor de las variables que no fijamos en cero:\n",
    "\n",
    "$$x_N = 0,\\qquad x_B = B^{-1} b.$$\n",
    "\n",
    "# Bases válidas — selección por **checkboxes**\n",
    "Selecciona exactamente **m** variables para formar una **base** $B$ candidata. Fijamos las demás variables en cero (**no básicas**). Si la submatriz es invertible, resolvemos $B x_B = b$, reportamos soluciones, y graficamos el punto resultante en el espacio de $(x_1, x_2)$."
   ]
  },
  {
   "cell_type": "code",
   "execution_count": 4,
   "id": "9d9fe432",
   "metadata": {},
   "outputs": [],
   "source": [
    "A_full = np.array([[1,1,1,0,0],\n",
    "                   [1,2,0,1,0],\n",
    "                   [2,1,0,0,1]], float)\n",
    "\n",
    "var_names=['x1','x2','s1','s2','s3']\n"
   ]
  },
  {
   "cell_type": "code",
   "execution_count": 5,
   "id": "f41113b6",
   "metadata": {},
   "outputs": [
    {
     "data": {
      "application/vnd.jupyter.widget-view+json": {
       "model_id": "edbd34a632e94ea3b51c750c6e9dd8d4",
       "version_major": 2,
       "version_minor": 0
      },
      "text/plain": [
       "VBox(children=(HBox(children=(Checkbox(value=False, description='x1', indent=False, layout=Layout(width='70px'…"
      ]
     },
     "metadata": {},
     "output_type": "display_data"
    }
   ],
   "source": [
    "checks = [Checkbox(value=(name in ['s1','s2','s3']), description=name, indent=False, layout=Layout(width='70px')) for name in var_names]\n",
    "btn_eval = Button(description=\"Evaluar base\", button_style=\"primary\")\n",
    "msg = HTML(); out_math = Output(); out_plot = Output()\n",
    "def on_eval(_):\n",
    "    out_math.clear_output(); out_plot.clear_output(); msg.value=\"\"\n",
    "    Bcols = [i for i,cb in enumerate(checks) if cb.value]\n",
    "    if len(Bcols)!=3: msg.value=\"<b>Selecciona exactamente m=3.</b>\"; return\n",
    "    info = basis_info(A_full, b, np.r_[c,0,0,0], Bcols)\n",
    "    x = info['x']\n",
    "    with out_math:\n",
    "        display(Math(r\"I_B=\\{\"+\", \".join(str(i+1) for i in info['Bcols'])+r\"\\},\\ I_N=\\{\"+\", \".join(str(j+1) for j in info['Ncols'])+r\"\\}\"))\n",
    "        display(Math(r\"\\textbf{B}=\"+mat_to_bmatrix(info['B'])+r\"\\textbf{N}=\"+mat_to_bmatrix(info['N'])))        \n",
    "        display(Math(r\"\\mathbf{x}_B=\\mathbf{B}^{-1}\\mathbf{b}=\"+vec_to_bmatrix(info['xB'], fmt='{:.3g}')+r\"; \\mathbf{x}_N=\\mathbf{0},\\ \" + r\"\\Rightarrow\\ \\mathbf{x}=\"+vec_to_bmatrix(x, fmt='{:.3g}') ))\n",
    "    with out_plot:\n",
    "        fig, (ax1, ax2) = plt.subplots(1,2, figsize=(11,5))\n",
    "        plot_method_graph(A,b,x=x[:2],ax=ax1,title=\"Region factible y vértice de la base elegida\", show_fill=True)\n",
    "        s = slacks(A,b,x[:2]); \n",
    "        colors=['tab:grey','tab:grey','tab:blue','tab:orange','tab:green']        \n",
    "        bar_slacks(np.hstack([x[:2], s]), colors=colors, ax=ax2, names=[\"x1\",\"x2\",\"s1\",\"s2\",\"s3\"])\n",
    "        plt.show()\n",
    "btn_eval.on_click(on_eval)\n",
    "display(VBox([HBox(checks), btn_eval, msg, out_math, out_plot]))"
   ]
  },
  {
   "cell_type": "code",
   "execution_count": null,
   "id": "ac9b5b8e-c7b6-4e42-a32b-05cf1067da9f",
   "metadata": {},
   "outputs": [],
   "source": []
  }
 ],
 "metadata": {
  "kernelspec": {
   "display_name": "Python 3 (ipykernel)",
   "language": "python",
   "name": "python3"
  },
  "language_info": {
   "codemirror_mode": {
    "name": "ipython",
    "version": 3
   },
   "file_extension": ".py",
   "mimetype": "text/x-python",
   "name": "python",
   "nbconvert_exporter": "python",
   "pygments_lexer": "ipython3",
   "version": "3.11.7"
  }
 },
 "nbformat": 4,
 "nbformat_minor": 5
}
