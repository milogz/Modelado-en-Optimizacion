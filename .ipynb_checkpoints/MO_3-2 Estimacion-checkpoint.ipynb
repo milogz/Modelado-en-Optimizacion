{
 "cells": [
  {
   "cell_type": "markdown",
   "id": "8a15e0b4",
   "metadata": {
    "id": "8a15e0b4"
   },
   "source": [
    "# Modelado en Optimización (IIND-2501)\n",
    "\n",
    "## Lección 3.2: Optimización en problemas de estimación"
   ]
  },
  {
   "cell_type": "code",
   "execution_count": 1,
   "id": "4d6d7321-a0a2-4551-9432-c1619bba2fff",
   "metadata": {
    "colab": {
     "base_uri": "https://localhost:8080/",
     "height": 333
    },
    "id": "d39e0167",
    "outputId": "b988b387-5942-4daa-be79-60aef53fde4e"
   },
   "outputs": [],
   "source": [
    "'''\n",
    "Importaciones y configuraciones generales del notebook. No modificar.\n",
    "'''\n",
    "from helpers_estimacion import init_estimacion, ejemplo_ilustrativo, ajuste_manual, fit_ols, metrics_ols, plot_ols\n",
    "\n",
    "np, plt, urlopen, pd, widgets, display = init_estimacion()"
   ]
  },
  {
   "cell_type": "markdown",
   "id": "104b8b22-9c16-448f-9d57-25d6d6983414",
   "metadata": {},
   "source": [
    "### 1 - Formular un problema de estimación\n",
    "\n",
    "Creamos un dataset sencillo con una sola variable para poder visualizar el comportamiento de los métodos de optimización que resuelven problemas de aprendizaje (más adelante usaremos un dataset real). *Suponemos* una variable $y$ cuyo comportamiento se relaciona con otra variable $x$ de forma lineal. Por ejemplo, en determinado sector, el salario de una persona ($y$) puede depender *linealmente* de sus años de experiencia ($x$). \n",
    "\n",
    "$$\\mathbf{y} = a + b\\mathbf{x}$$\n",
    "\n",
    "Con suficientes observaciones, podemos determinar si esto en efecto se cumple, y cuál sería la recta que nos ayuda a explicar o predecir los salarios en este sector a partir de los años de experiencia de un aspirante (i.e., qué valores de $a$ y $b$ generan buenas estimaciones de $y$ a partir de $x$)."
   ]
  },
  {
   "cell_type": "code",
   "execution_count": 2,
   "id": "a0b77ee8-a42c-4e99-ac55-0383ef270178",
   "metadata": {
    "colab": {
     "base_uri": "https://localhost:8080/",
     "height": 333
    },
    "id": "d39e0167",
    "outputId": "b988b387-5942-4daa-be79-60aef53fde4e"
   },
   "outputs": [
    {
     "data": {
      "text/html": [
       "<div>\n",
       "<style scoped>\n",
       "    .dataframe tbody tr th:only-of-type {\n",
       "        vertical-align: middle;\n",
       "    }\n",
       "\n",
       "    .dataframe tbody tr th {\n",
       "        vertical-align: top;\n",
       "    }\n",
       "\n",
       "    .dataframe thead th {\n",
       "        text-align: right;\n",
       "    }\n",
       "</style>\n",
       "<table border=\"1\" class=\"dataframe\">\n",
       "  <thead>\n",
       "    <tr style=\"text-align: right;\">\n",
       "      <th></th>\n",
       "      <th>Años de experiencia (x)</th>\n",
       "      <th>Salario normalizado (y)</th>\n",
       "    </tr>\n",
       "  </thead>\n",
       "  <tbody>\n",
       "    <tr>\n",
       "      <th>0</th>\n",
       "      <td>7.5</td>\n",
       "      <td>39.0</td>\n",
       "    </tr>\n",
       "    <tr>\n",
       "      <th>1</th>\n",
       "      <td>19.0</td>\n",
       "      <td>87.0</td>\n",
       "    </tr>\n",
       "    <tr>\n",
       "      <th>2</th>\n",
       "      <td>14.6</td>\n",
       "      <td>65.1</td>\n",
       "    </tr>\n",
       "    <tr>\n",
       "      <th>3</th>\n",
       "      <td>12.0</td>\n",
       "      <td>55.3</td>\n",
       "    </tr>\n",
       "    <tr>\n",
       "      <th>4</th>\n",
       "      <td>3.1</td>\n",
       "      <td>17.2</td>\n",
       "    </tr>\n",
       "  </tbody>\n",
       "</table>\n",
       "</div>"
      ],
      "text/plain": [
       "   Años de experiencia (x)  Salario normalizado (y)\n",
       "0                      7.5                     39.0\n",
       "1                     19.0                     87.0\n",
       "2                     14.6                     65.1\n",
       "3                     12.0                     55.3\n",
       "4                      3.1                     17.2"
      ]
     },
     "execution_count": 2,
     "metadata": {},
     "output_type": "execute_result"
    }
   ],
   "source": [
    "datos, true_coefs = ejemplo_ilustrativo() \n",
    "datos.head()"
   ]
  },
  {
   "cell_type": "code",
   "execution_count": 3,
   "id": "21701e93-53c9-4255-bc94-36f328665759",
   "metadata": {},
   "outputs": [],
   "source": [
    "n = datos.shape[0]\n",
    "y = datos[\"Salario normalizado (y)\"]\n",
    "x = datos[\"Años de experiencia (x)\"]\n",
    "X = np.vstack([np.ones(n), x]).T        # extiende con columna de 1s (coeficientes del término independente a)\n",
    "\n",
    "a_true, b_true = true_coefs"
   ]
  },
  {
   "cell_type": "code",
   "execution_count": 4,
   "id": "c071682e-4245-4d5b-8d00-c07b33a70568",
   "metadata": {
    "colab": {
     "base_uri": "https://localhost:8080/",
     "height": 333
    },
    "id": "d39e0167",
    "outputId": "b988b387-5942-4daa-be79-60aef53fde4e"
   },
   "outputs": [
    {
     "data": {
      "application/vnd.jupyter.widget-view+json": {
       "model_id": "34d1d5b192dd428faa7030ec57f5073d",
       "version_major": 2,
       "version_minor": 0
      },
      "text/plain": [
       "interactive(children=(FloatSlider(value=1.0, description='Pendiente', max=10.0, min=-10.0), FloatSlider(value=…"
      ]
     },
     "metadata": {},
     "output_type": "display_data"
    },
    {
     "data": {
      "application/vnd.jupyter.widget-view+json": {
       "model_id": "5742d212fc874b2eb72069e1711be6b7",
       "version_major": 2,
       "version_minor": 0
      },
      "text/plain": [
       "Output()"
      ]
     },
     "metadata": {},
     "output_type": "display_data"
    }
   ],
   "source": [
    "ajuste_manual(x, y)"
   ]
  },
  {
   "cell_type": "markdown",
   "id": "e66851c4-70ad-40b3-bcec-472f79d20762",
   "metadata": {},
   "source": [
    "### 2 - Cómo medir qué tan bueno es el modelo de estimación\n",
    "\n",
    "Para valores dados ($a'$ y $b'$) de los coeficientes, podemos hacer una estimación $\\hat{y}$ dado un $x$.\n",
    "\n",
    "$$\\hat{y}=a' + b' x$$\n",
    "\n",
    "La distancia entre $\\hat{y}$ y el $y$ real de las observaciones nos da una idea de qué tan buena es la estimación lineal que logran $a'$ y $b'$. Queremos los valores de $a$ y $b$ que minimizan esa distancia, comunmente medida a través del *Error Medio Cuadrático* (MSE) o algunas variaciones.\n",
    "\n",
    "$$MSE = \\frac{1}{N}\\sum_{i=1}^{N}[ y_i-\\hat{y}_i ]^2$$\n",
    "\n",
    "$$MSE = \\frac{1}{N}\\sum_{i=1}^{N}[y_i-(a+b x_i)]^2 = f(a,b)$$\n",
    "\n",
    "Es decir, queremos la recta que se ajusta más cercanamente a las observaciones disponibles, así que formulamos el siguiente problema de optimización: *¿qué valores de a y b minimizan el MSE?*."
   ]
  },
  {
   "cell_type": "code",
   "execution_count": null,
   "id": "58dadb93-45d1-4fe1-abfb-98a635c7bb3a",
   "metadata": {},
   "outputs": [],
   "source": [
    "def mse(beta0, beta1):\n",
    "    beta = np.array([beta0, beta1])\n",
    "    res = y - X @ beta\n",
    "    return (res @ res) / n  # multiplicar vector de residuos por si mismo da errores cuadráticos\n",
    "\n",
    "b0 = np.linspace(a_true-10, a_true+10, 60)\n",
    "b1 = np.linspace(b_true-10, b_true+10, 60)\n",
    "B0, B1 = np.meshgrid(b0, b1)\n",
    "J = np.vectorize(mse)(B0, B1)     # Función J recibe b0,b1, retorna MSE \n",
    "\n",
    "fig = plt.figure(figsize=(6,4))\n",
    "ax = fig.add_subplot(111, projection='3d')\n",
    "ax.plot_surface(B0, B1, J, cmap='viridis', alpha=0.7)\n",
    "ax.set_xlabel('a'); ax.set_ylabel('b'); ax.set_zlabel('f')\n",
    "plt.title('Paraboloide de pérdida'); plt.show()"
   ]
  },
  {
   "cell_type": "markdown",
   "id": "fa1127b0",
   "metadata": {
    "id": "fa1127b0"
   },
   "source": [
    "### 3 – Solución analítica mediante álgebra lineal\n",
    "\n",
    "De manera general, se le llama $\\theta$ o $\\beta$ al vector que agrupa los coeficientes de la relación lineal entre $x$ y $y$ (es decir, los coeficiente $a$ y $b$, y otros cuando se incluyen más variables). Así, con $\\mathbf{\\beta}=[\\beta_0, \\beta_1]$, tendríamos:\n",
    "\n",
    "$$y = \\beta_0 + \\beta_1 x$$\n",
    "\n",
    "Y de manera general, $y = \\mathbf{\\beta}X$. Una manera formal de escribir algebraicamente el MSE es a través de la norma del vector diferencia entre el $y$ real y el $y$ estimado ($\\mathbf{\\beta}X$):\n",
    "\n",
    "$$J(\\beta) = \\|y - X\\beta\\|_2^2$$\n",
    "\n",
    "Por tratarse de una función cuadrática (convexa), sabemos que el mínimo estará en el punto donde \"la derivada\" se hace cero, lo cual se extiende al concepto de gradiente y se conoce como *condiciones de primer orden* (el óptimo deberá cumplir $\\nabla J = 0$):\n",
    "\n",
    "$$ -2X^\\top(y - X\\beta)=0$$\n",
    "$$ (X^\\top X)\\beta = X^\\top y$$\n",
    "$$\\hat\\beta=(X^\\top X)^{-1}X^\\top y$$"
   ]
  },
  {
   "cell_type": "code",
   "execution_count": null,
   "id": "d2f7aef0",
   "metadata": {
    "colab": {
     "base_uri": "https://localhost:8080/"
    },
    "id": "d2f7aef0",
    "outputId": "24c483a7-b0c8-439e-e1b2-7500cbe5ea62"
   },
   "outputs": [],
   "source": [
    "beta_closed = np.linalg.inv(X.T @ X) @ (X.T @ y)\n",
    "print('Valores estimados analíticamente\\n [a,b] = [beta_0, beta_1] =', beta_closed)"
   ]
  },
  {
   "cell_type": "markdown",
   "id": "fff19141",
   "metadata": {
    "id": "fff19141"
   },
   "source": [
    "### 4 – Solución iterativa mediante *descenso de gradiente*\n",
    "\n",
    "Para la misma $J(\\beta)$, su gradiente es\n",
    "$$\\nabla J(\\beta) = -\\frac{2}{n} X^\\top (y - X\\beta).$$\n",
    "\n",
    "Partiremos de un punto arbitrario $x_0$ y aplicaremos la ecuación de actualización de movimiento, usando siempre como dirección el gradiente negativo en el punto (i.e., $\\Delta x = \\nabla J(\\beta)$), y variando diferentes tamaños de paso $\\alpha$.\n",
    "\n",
    "$$\\mathbf{x}^{t+1} = \\mathbf{x}^t + \\alpha \\Delta \\mathbf{x}$$"
   ]
  },
  {
   "cell_type": "code",
   "execution_count": null,
   "id": "340e348b",
   "metadata": {
    "colab": {
     "base_uri": "https://localhost:8080/"
    },
    "id": "340e348b",
    "outputId": "ce927fb5-2fb1-4368-f28b-e2650a69d917"
   },
   "outputs": [],
   "source": [
    "def gradient_descent(X, y, alpha=0.001, max_iter=5000, tol=1e-6):\n",
    "    n, p = X.shape\n",
    "    beta = np.ones(p)           # iniciamos suponiendo [a,b]=[b0,b1]=[1,1] e iteramos\n",
    "    traj_beta = [beta.copy()]   # acumula histórico variables\n",
    "    traj_J = []                 # acumula histórico objetivo\n",
    "    for it in range(max_iter):\n",
    "        res = y - X @ beta\n",
    "        grad = -(2/n) * X.T @ res\n",
    "        beta_new = beta - alpha * grad\n",
    "        traj_beta.append(beta_new.copy())\n",
    "        traj_J.append((res @ res)/n)\n",
    "        if np.linalg.norm(beta_new - beta) < tol:\n",
    "            break\n",
    "        beta = beta_new\n",
    "    return beta, np.array(traj_beta), traj_J\n",
    "\n",
    "beta_gd, traj_b, traj_J = gradient_descent(X, y)\n",
    "print('Coeficientes según gradiente:', beta_gd)"
   ]
  },
  {
   "cell_type": "code",
   "execution_count": null,
   "id": "10fc1539",
   "metadata": {
    "colab": {
     "base_uri": "https://localhost:8080/",
     "height": 726
    },
    "id": "10fc1539",
    "outputId": "0a80d61c-40f5-4796-e8bf-ff0d43b7da61"
   },
   "outputs": [],
   "source": [
    "plt.figure(figsize=(5,4))\n",
    "plt.contour(B0, B1, J, levels=30, cmap='viridis')\n",
    "plt.plot(traj_b[:,0], traj_b[:,1], 'r.-', label='GD')\n",
    "plt.scatter(beta_closed[0], beta_closed[1], c='black', label='closed‑form')\n",
    "plt.xlabel('β0'); plt.ylabel('β1'); plt.title('Trayectoria GD'); plt.legend(); plt.show()\n",
    "\n",
    "plt.figure(figsize=(5,3))\n",
    "plt.plot(traj_J); plt.yscale('log')\n",
    "plt.xlabel('Iter'); plt.ylabel('MSE (log)'); plt.title('Convergencia GD'); plt.show()"
   ]
  },
  {
   "cell_type": "markdown",
   "id": "Z8O_dmm_oFEe",
   "metadata": {
    "id": "Z8O_dmm_oFEe"
   },
   "source": [
    "### 5 - Comparación de resultados"
   ]
  },
  {
   "cell_type": "code",
   "execution_count": null,
   "id": "xVzrB9SvoFs8",
   "metadata": {
    "id": "xVzrB9SvoFs8"
   },
   "outputs": [],
   "source": [
    "DF = pd.DataFrame({'Real':[a_true, b_true], 'Analítico':beta_closed, 'Gradiente': beta_gd}, index=['a','b'])\n",
    "DF"
   ]
  },
  {
   "cell_type": "code",
   "execution_count": null,
   "id": "S1JqSBmToDl1",
   "metadata": {
    "id": "S1JqSBmToDl1"
   },
   "outputs": [],
   "source": [
    "def plot_regression(x, y, beta_closed, beta_gd):\n",
    "    plt.figure(figsize=(5,3))\n",
    "    plt.scatter(x, y, alpha=0.7, label='Datos')\n",
    "    xs = np.linspace(0, 20, 100)\n",
    "    plt.plot(xs, a_true + b_true*xs, color='gray', label='Linea real')\n",
    "    plt.plot(xs, beta_closed[0] + beta_closed[1]*xs, '--', color='r', label='Sol. analítica')\n",
    "    plt.plot(xs, beta_gd[0] + beta_gd[1]*xs, '-.', color='g', label='Sol. gradiente')\n",
    "    plt.xlabel('x'); plt.ylabel('y'); plt.legend(); plt.title('Funciones lineales estimadas')\n",
    "    plt.show()\n",
    "\n",
    "plot_regression(x, y, beta_closed, beta_gd)"
   ]
  },
  {
   "cell_type": "markdown",
   "id": "020d726d",
   "metadata": {},
   "source": [
    "### 6 - Ejemplo con datos reales (regresión lineal)\n",
    "\n",
    "#### Estimar costo de viviendas a partir del ingreso mediano\n",
    "\n",
    "Usremos el caso *California Housing* disponible en la librería scikit-learn de Python. La intuición general es que barrios con **mayor ingreso mediano** tienden a tener **viviendas más costosas**.\n",
    "\n",
    "Usaremos dos de las variables del *dataset*:\n",
    "- $x$: ingreso mediano del bloque (en decenas de miles USD)\n",
    "- $y$: valor mediano de vivienda (en centenas de miles USD)"
   ]
  },
  {
   "cell_type": "code",
   "execution_count": null,
   "id": "3c4f573d-ab9d-4155-806a-244270b39a75",
   "metadata": {},
   "outputs": [],
   "source": [
    "from sklearn.datasets import fetch_california_housing\n",
    "\n",
    "data = fetch_california_housing(as_frame=True)\n",
    "df = data.frame.rename(columns=str)\n",
    "df.head()"
   ]
  },
  {
   "cell_type": "code",
   "execution_count": null,
   "id": "7bccbb33-48b2-4d5b-a086-2a1cf07f7747",
   "metadata": {},
   "outputs": [],
   "source": [
    "# Variables: x = ingreso mediano del bloque (en decenas de miles USD), y = valor mediano de vivienda (en centenas de miles USD)\n",
    "x = df[\"MedInc\"].values\n",
    "y = df[\"MedHouseVal\"].values\n",
    "\n",
    "# Ajuste OLS mediante función interna en numpy  (sin considerar train/test split)\n",
    "m, b, f = fit_ols(x, y)      # m: pendiente; b: intercepto; f: función/modelo de estimación (b+m*x)\n",
    "\n",
    "print(f\"Modelo estimado: y = {b:.2f} + {m:.2f} x\")"
   ]
  },
  {
   "cell_type": "code",
   "execution_count": null,
   "id": "b6f82028-1e32-4655-9a25-a97585cfc50c",
   "metadata": {},
   "outputs": [],
   "source": [
    "yhat = f(x)\n",
    "metrics = metrics_ols(y, yhat)\n",
    "pd.DataFrame([{\"m\": m, \"b\": b, **metrics}])"
   ]
  },
  {
   "cell_type": "code",
   "execution_count": null,
   "id": "c9153d0f-7439-4a77-9223-ae667a9e1d86",
   "metadata": {},
   "outputs": [],
   "source": [
    "# --- Visualización con residuos\n",
    "plot_ols(\n",
    "    x, y, m, b,\n",
    "    title=\"California Housing\",\n",
    "    xlabel=\"Ingreso mediano (x10k USD)\",\n",
    "    ylabel=\"Valor mediano vivienda (x100k USD)\",\n",
    ")"
   ]
  },
  {
   "cell_type": "markdown",
   "id": "09522b2e-da08-495c-945b-310b30c68e05",
   "metadata": {},
   "source": [
    "#### Ejercicio:\n",
    "\n",
    "Encontrar los parámetros (b,m) que minimizan el MSE para el ejemplo de **California Housing** utilizando la implementación del algoritmo de gradiente presentada arriba:"
   ]
  },
  {
   "cell_type": "code",
   "execution_count": null,
   "id": "8e686c3c-f5f0-46c8-b6de-31dd9042634e",
   "metadata": {},
   "outputs": [],
   "source": [
    "# Escribe aquí tu solución"
   ]
  }
 ],
 "metadata": {
  "colab": {
   "provenance": []
  },
  "kernelspec": {
   "display_name": "Python 3 (ipykernel)",
   "language": "python",
   "name": "python3"
  },
  "language_info": {
   "codemirror_mode": {
    "name": "ipython",
    "version": 3
   },
   "file_extension": ".py",
   "mimetype": "text/x-python",
   "name": "python",
   "nbconvert_exporter": "python",
   "pygments_lexer": "ipython3",
   "version": "3.11.7"
  }
 },
 "nbformat": 4,
 "nbformat_minor": 5
}
