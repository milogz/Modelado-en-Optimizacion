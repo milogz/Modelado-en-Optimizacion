{
 "cells": [
  {
   "cell_type": "markdown",
   "id": "91e3b93f-8ec7-4bba-b3e2-7ceb217c09a3",
   "metadata": {},
   "source": [
    "# Modelado en Optimización (IIND-2501)\n",
    "\n",
    "## Lección 3.3: Optimización lineal (formato estándar, holguras y bases)\n",
    "\n",
    "El **propósito** de esta lección es construir intuición geométrica de:\n",
    "- Región factible, restricciones activas/inactivas, holguras.\n",
    "- Variables básicas y no básicas (en $\\mathbb{R}^n$, los vértices son intersección de $n$ o más restricciones activas).\n",
    "- Conexión entre formato canónico, estándar y matricial."
   ]
  },
  {
   "cell_type": "code",
   "execution_count": 1,
   "id": "29e35472-1c2f-4358-86ec-56906023fff4",
   "metadata": {},
   "outputs": [],
   "source": [
    "'''\n",
    "Importaciones y configuraciones generales del notebook. No modificar.\n",
    "'''\n",
    "import numpy as np\n",
    "import matplotlib.pyplot as plt\n",
    "from IPython.display import display, Math\n",
    "from ipywidgets import FloatSlider, VBox, HBox, HTML, interactive_output, Checkbox, Button, Output, Layout\n",
    "\n",
    "from helpers_bases import region_factible, eval_basis"
   ]
  },
  {
   "cell_type": "markdown",
   "id": "ccd91b3c-bc5e-4c40-9170-c724b2b181f3",
   "metadata": {},
   "source": [
    "### 0. Representación general de un problema de optimización\n",
    "\n",
    "Un problema de optimización con $n$ variables y $m$ restricciones puede escribirse de manera general como:\n",
    "\n",
    "$$\\max\\; c^\\top x$$\n",
    "$$\\text{s.a.}$$\n",
    "$$A x \\le b,\\;$$\n",
    "$$x\\ge 0,\\;$$\n",
    "$$x\\in\\mathbb{R}^2.$$\n",
    "\n",
    "En esta **representación matricial**, $A\\in\\mathbb{R}^{m\\times n}$ contiene los coeficientes de las variables en las restricciones, $b\\in\\mathbb{R}^{m}$ contiene los términos independientes (lado derecho) de las restricciones, y $c\\in\\mathbb{R}^{n}$ contiene los costos asociados a las variables en la función objetivo (ver diapositivas).\n",
    "\n",
    "#### Ejemplo:\n",
    "\n",
    "$$\\max\\ z = 3x_1 + 2x_2$$\n",
    "\n",
    "Sujeto a\n",
    "$$\n",
    "\\begin{aligned}\n",
    "x_1 + x_2 &\\le 6 \\\\\n",
    "x_1 + 2 x_2 &\\le 8 \\\\\n",
    "2 x_2 + x_2 &\\le 8 \\\\\n",
    "x_1, x_2 &\\ge 0 \\, .\n",
    "\\end{aligned}\n",
    "$$\n",
    "\n",
    "En notación matricial:\n",
    "$$\n",
    "A =\n",
    "\\begin{bmatrix}\n",
    "1 & 1 \\\\\n",
    "1 & 2 \\\\\n",
    "2 & 1\n",
    "\\end{bmatrix},\n",
    "\\quad\n",
    "b =\n",
    "\\begin{bmatrix}\n",
    "6 \\\\ 8 \\\\ 8\n",
    "\\end{bmatrix},\n",
    "\\quad\n",
    "c =\n",
    "\\begin{bmatrix}\n",
    "3 \\\\ 2\n",
    "\\end{bmatrix} .\n",
    "$$"
   ]
  },
  {
   "cell_type": "markdown",
   "id": "aa775261-5c27-430d-93eb-33e8f82f0977",
   "metadata": {},
   "source": [
    "## 1. Formatos de representación \n",
    "\n",
    "- **Formato canónico**: implica expresar problemas de maximización con restricciones `<=`(y de minimización con restricciones `>=`); el ejemplo anterior ya está dado en formato canónico.\n",
    "  \n",
    "- **Formato estándar**: implica expresar el problema solo con restricciones de igualdad para trabajar con sistemas de ecuaciones exactos. Para esto, introduce `variables de holgura` ($s$) que absorben \"lo que le falta\" a cada restricción para cumplirse en igualdad, reemplazando las restricciones originales por:\n",
    "\n",
    "$$\\max\\; c^\\top x$$\n",
    "$$A x + s = b,$$\n",
    "$$x\\ge 0,$$\n",
    "$$s\\ge 0.$$\n",
    "\n",
    "Para el caso del ejemplo anterior, la representación en **formato estándar** sería:\n",
    "$$\\max\\ z = 3x_1 + 2x_2$$\n",
    "$$\n",
    "\\begin{aligned}\n",
    "x_1 + x_2 + s_1 &= 6 \\\\\n",
    "x_1 + 2 x_2 + s_2 &= 8 \\\\\n",
    "2 x_2 + x_2 + s_3 &= 8 \\\\\n",
    "x_1, x_2, s_1, s_2, s_3 &\\ge 0 \\, .\n",
    "\\end{aligned}\n",
    "$$\n",
    "\n",
    "De forma que la representación matricial se extiende a:\n",
    "\n",
    "$$\n",
    "A =\n",
    "\\begin{bmatrix}\n",
    "1 & 1 & 1 & 0 & 0 \\\\\n",
    "1 & 2 & 0 & 1 & 0\\\\\n",
    "2 & 1 & 0 & 0 & 1\n",
    "\\end{bmatrix},\n",
    "\\quad\n",
    "b =\n",
    "\\begin{bmatrix}\n",
    "6 \\\\ 8 \\\\ 8\n",
    "\\end{bmatrix},\n",
    "\\quad\n",
    "c =\n",
    "\\begin{bmatrix}\n",
    "3 \\\\ 2 \\\\ 0 \\\\ 0 \\\\ 0\n",
    "\\end{bmatrix} .\n",
    "$$\n",
    "\n",
    "Observa que:\n",
    "$$\n",
    "\\begin{aligned}\n",
    "s_1 &= 6 - (x_1 + x_2) \\\\\n",
    "s_2 &= 8 - (x_1 + 2 x_2 ) \\\\\n",
    "s_3 &= 8 - (2 x_2 + x_2)\\\\\n",
    "\\end{aligned}\n",
    "$$"
   ]
  },
  {
   "cell_type": "code",
   "execution_count": 2,
   "id": "25bab848",
   "metadata": {},
   "outputs": [],
   "source": [
    "A = np.array([[1.,1.],[1.,2.],[2.,1.]], float)\n",
    "b = np.array([6.,8.,8.], float)\n",
    "c = np.array([3.,2.], float)"
   ]
  },
  {
   "cell_type": "markdown",
   "id": "d5718af5-e044-4bff-a64f-99d4b361ef28",
   "metadata": {},
   "source": [
    "## 2. Conceptos de *holgura y restricción activa*\n",
    "\n",
    "Utiliza el siguiente *recurso interactivo* para evaluar diferentes puntos $(x_1, x_2)$, verificar factibilidad, y comprender el papel de las variables de holgura.\n",
    "\n",
    "- Desliza `x1` y `x2` para **probar factibilidad** $(Ax \\le b$).\n",
    "- El vector de **holguras** es $s = b - A x$.\n",
    "  - Si $s_i > 0$: la restricción $i$ está **inactiva**.\n",
    "  - Si $s_i = 0$: la restricción $i$ está **activa**.\n",
    "  - Si $s_i < 0$: la restricción $i$ se está incumpliendo.\n",
    "- El gráfico 2D muestra las restricciones (rectas $a_i^\\top x = b_i$), la región factible y el punto $(x_1, x_2)$ (todo en el espacio de $x_1,x_2$).\n",
    "- El gráfico de barras horizontales muestra los valores de **todas las variables**: $[x_1, x_2, s_1, s_2, s_3]$."
   ]
  },
  {
   "cell_type": "code",
   "execution_count": 3,
   "id": "c38d409f",
   "metadata": {},
   "outputs": [
    {
     "data": {
      "application/vnd.jupyter.widget-view+json": {
       "model_id": "14e1b6f876014bb39dc52318b88d3b29",
       "version_major": 2,
       "version_minor": 0
      },
      "text/plain": [
       "VBox(children=(HBox(children=(FloatSlider(value=0.0, description='x1', max=5.0), FloatSlider(value=0.0, descri…"
      ]
     },
     "metadata": {},
     "output_type": "display_data"
    }
   ],
   "source": [
    "#plot_LP(A,b,c)\n",
    "region_factible(A, b, x_init=(0.0, 0.0))"
   ]
  },
  {
   "cell_type": "markdown",
   "id": "742183f6-7233-487b-b35d-415aba6227e5",
   "metadata": {},
   "source": [
    "## 3. Conceptos de *base* y *punto extremo*\n",
    "\n",
    "Al introducir **holguras**, obtenemos un vector de decisión ampliado $x = [\\,x_1,\\ x_2,\\ s_1,\\ s_2,\\ s_3\\,]^\\top$ y matrices:\n",
    "\n",
    "$$\n",
    "A =\n",
    "\\begin{bmatrix}\n",
    "1 & 1 & 1 & 0 & 0 \\\\\n",
    "1 & 2 & 0 & 1 & 0 \\\\\n",
    "2 & 1 & 0 & 0 & 1\n",
    "\\end{bmatrix},\n",
    "\\quad\n",
    "b =\n",
    "\\begin{bmatrix}\n",
    "6 \\\\ 8 \\\\ 8\n",
    "\\end{bmatrix},\n",
    "\\quad\n",
    "c =\n",
    "\\begin{bmatrix}\n",
    "3 \\\\ 2 \\\\ 0 \\\\ 0 \\\\ 0\n",
    "\\end{bmatrix} .\n",
    "$$\n",
    "\n",
    "- Un sistema de ecuaciones de 3x5 ($m\\times n$) tiene infinitas soluciones (todos los puntos de la región factible satisfacen el sistema de ecuaciones, aunque no todos sean óptimos). Si fijamos $n-m$ variables en cero, obtenemos un sistema de $m\\times m$ que tiene una solución única (igual número de ecuaciones e incógnitas).\n",
    "- Llamaremos **base** ($B$) a la matriz de $m\\times m$ que resulta de descartar las columnas de $A$ correpondientes a variables fijadas en cero. Por ejemplo, si fijamos $s_2$ y $s_3$ en cero, se 'anularían' las columnas 4 y 5 de la matriz $A$, y se podría resolver el sistema $B x = b$:\n",
    "\n",
    "$$\n",
    "\\begin{bmatrix}\n",
    "1 & 1 & 1 \\\\\n",
    "1 & 2 & 0 \\\\\n",
    "2 & 1 & 0 \n",
    "\\end{bmatrix}\n",
    "\\begin{bmatrix}\n",
    "x_1 \\\\ x_2 \\\\ s_1\n",
    "\\end{bmatrix}\n",
    "=\n",
    "\\begin{bmatrix}\n",
    "6 \\\\ 8 \\\\ 8\n",
    "\\end{bmatrix}\n",
    "$$\n",
    "\n",
    "- De la sección anterior, sabemos que tener una **variable en cero** implica que se tiene una **restricción activa**. Al fijar ciertas variables en cero y solucionar el sistema restante, estamos encontrando el punto donde se encuentran las restricciones activas.\n",
    "\n",
    "$\\rightarrow$ `usa la interfaz de la Sección 2 para encontrar el punto relacionado con fijar s_2 y s_3 en cero` \n",
    "\n",
    "$\\rightarrow$ ¿Cómo se relaciona el punto obtenido con $ B^{-1} b$?\n",
    "\n",
    "- Si una **base** es invertible, ésta representará el punto donde se intersectan las restricciones activas. Si dicho punto es factible, lo llamaremos un **punto extremo** del problema de optimización; si es infactible, simplemente lo llamamos *solución básica infactible*."
   ]
  },
  {
   "cell_type": "code",
   "execution_count": 4,
   "id": "6ab20504-0167-49db-89f7-34108c55cea8",
   "metadata": {},
   "outputs": [],
   "source": [
    "A_full = np.array([[1,1,1,0,0],\n",
    "                   [1,2,0,1,0],\n",
    "                   [2,1,0,0,1]], float)\n",
    "\n",
    "var_names=['x1','x2','s1','s2','s3']"
   ]
  },
  {
   "cell_type": "markdown",
   "id": "da8d6a3d-9110-4430-b118-8e01d0acb4fd",
   "metadata": {},
   "source": [
    "#### Exploración de bases en un problema de optimización lineal\n",
    "\n",
    "Selecciona exactamente **m** variables para formar una **base** $B$ candidata (a estas las llamaremos **variables básicas**: $x_B$). Fijamos las demás variables en cero (**no básicas**: $x_N$). Si la submatriz es invertible, resolvemos $B x_B = b$ internamente, reportamos soluciones, y graficamos el punto resultante en el espacio de $(x_1, x_2)$."
   ]
  },
  {
   "cell_type": "code",
   "execution_count": 5,
   "id": "7e11763c-63fa-4fcd-bb64-090199b8c7e0",
   "metadata": {},
   "outputs": [
    {
     "data": {
      "application/vnd.jupyter.widget-view+json": {
       "model_id": "112bee2ab55e45b2bfa84b9a0982382c",
       "version_major": 2,
       "version_minor": 0
      },
      "text/plain": [
       "VBox(children=(HBox(children=(Checkbox(value=False, description='x1', indent=False, layout=Layout(width='70px'…"
      ]
     },
     "metadata": {},
     "output_type": "display_data"
    }
   ],
   "source": [
    "eval_basis(A_full, b, c, var_names=var_names)"
   ]
  },
  {
   "cell_type": "code",
   "execution_count": null,
   "id": "ac9b5b8e-c7b6-4e42-a32b-05cf1067da9f",
   "metadata": {},
   "outputs": [],
   "source": []
  }
 ],
 "metadata": {
  "kernelspec": {
   "display_name": "Python 3 (ipykernel)",
   "language": "python",
   "name": "python3"
  },
  "language_info": {
   "codemirror_mode": {
    "name": "ipython",
    "version": 3
   },
   "file_extension": ".py",
   "mimetype": "text/x-python",
   "name": "python",
   "nbconvert_exporter": "python",
   "pygments_lexer": "ipython3",
   "version": "3.11.7"
  }
 },
 "nbformat": 4,
 "nbformat_minor": 5
}
